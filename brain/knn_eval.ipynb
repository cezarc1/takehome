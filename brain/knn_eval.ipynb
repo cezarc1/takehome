{
 "cells": [
  {
   "cell_type": "markdown",
   "metadata": {},
   "source": [
    "# KNN EVAL"
   ]
  },
  {
   "cell_type": "code",
   "execution_count": 1,
   "metadata": {},
   "outputs": [],
   "source": [
    "# Set environment variables\n",
    "import os\n",
    "\n",
    "os.environ[\"DSPY_LOG_LEVEL\"] = \"DEBUG\"\n",
    "os.environ[\n",
    "    \"TOGETHER_API_KEY\"] = SET THIS\n"
   ]
  },
  {
   "cell_type": "code",
   "execution_count": 2,
   "metadata": {},
   "outputs": [],
   "source": [
    "import sys\n",
    "import os\n",
    "# Add the parent directory of 'brain' to the Python path\n",
    "sys.path.append(os.path.abspath(\"..\"))\n",
    "from dspy import settings\n",
    "from lms.together import Together\n",
    "\n",
    "lm = Together(\n",
    "    model=\"meta-llama/Llama-3.2-90B-Vision-Instruct-Turbo\",\n",
    "    temperature=0.5,\n",
    "    max_tokens=1000,\n",
    "    top_p=0.7,\n",
    "    top_k=50,\n",
    "    repetition_penalty=1.2,\n",
    "    stop=[\n",
    "        \"<|eot_id|>\", \"<|eom_id|>\", \"\\n\\n---\\n\\n\", \"\\n\\n---\", \"---\", \"\\n---\"\n",
    "    ],\n",
    "    # stop=[\"\\n\", \"\\n\\n\"],\n",
    ")\n",
    "\n",
    "settings.configure(lm=lm)"
   ]
  },
  {
   "cell_type": "markdown",
   "metadata": {},
   "source": [
    "### Load training data"
   ]
  },
  {
   "cell_type": "code",
   "execution_count": 3,
   "metadata": {},
   "outputs": [],
   "source": [
    "from brain.models import LabeledChatHistory\n",
    "from brain.modules.chatter import ChatterModule\n",
    "\n",
    "training_examples = LabeledChatHistory.load_labeled_histories(\n",
    "    \"../training_data/conversations.json\")"
   ]
  },
  {
   "cell_type": "markdown",
   "metadata": {},
   "source": [
    "### Evaluate the KNN Optimizer with the ChatterModule pipeline.\n",
    "\n",
    "Note the error: \n",
    "```\n",
    "2024/11/14 15:45:24 ERROR dspy.teleprompt.bootstrap: Failed to run or to evaluate example Example({'chat_history': ChatHistory(messages=[ChatMessage(from_creator=False, content=\"Hey! I saw you mentioned 'living slow' in your last video. Do you think it’s possible to do that while collecting typewriters and thinking about existential philosophy?\", image_base64=None, timestamp=None), ChatMessage(from_creator=True, content=\"Absolutely! 'Living slow' is about finding purpose in what you do, even if it's pondering life’s mysteries or restoring a typewriter. It's more about presence than speed.\", image_base64=None, timestamp=None), ChatMessage(from_creator=False, content='I love that! Maybe my typewriters are little time capsules of presence. Thanks for making me feel less weird about it.', image_base64=None, timestamp=None)]), 'response': 'Not weird at all! Embrace the things that make you feel deeply connected to the moment.'}) (input_keys={'chat_history'}) with None due to ('Too many retries trying to get the correct output format. Try simplifying the requirements.', {'general': 'Input should be a valid dictionary or instance of ChatHistory: chat_history (error type: model_type)'}).\n",
    "```\n",
    "\n",
    "However, the pipeline does work in chat_interface.py.... hmmmm Could it be a Together issue?"
   ]
  },
  {
   "cell_type": "code",
   "execution_count": 4,
   "metadata": {},
   "outputs": [
    {
     "name": "stderr",
     "output_type": "stream",
     "text": [
      "WARNING:root:\t*** Since DSPy 2.5.16+, TypedPredictors are now deprecated, underperform, and are about to be removed! ***\n",
      "Please use standard predictors, e.g. dspy.Predict and dspy.ChainOfThought.\n",
      "They now support type annotations and other features of TypedPredictors and tend to work much better out of the box.\n",
      "Please let us know if you face any issues: https://github.com/stanfordnlp/dspy/issues\n"
     ]
    },
    {
     "name": "stdout",
     "output_type": "stream",
     "text": [
      "Chat History:  THE FAN: Hey! I saw you mentioned 'living slow' in your last video. Do you think it’s possible to do that while collecting typewriters and thinking about existential philosophy?\n",
      "YOU: Absolutely! 'Living slow' is about finding purpose in what you do, even if it's pondering life’s mysteries or restoring a typewriter. It's more about presence than speed.\n",
      "THE FAN: I love that! Maybe my typewriters are little time capsules of presence. Thanks for making me feel less weird about it.\n",
      "Expected response:  Not weird at all! Embrace the things that make you feel deeply connected to the moment.\n"
     ]
    },
    {
     "name": "stderr",
     "output_type": "stream",
     "text": [
      "  0%|          | 0/3 [00:00<?, ?it/s]WARNING:root:\t*** In DSPy 2.5, all LM clients except `dspy.LM` are deprecated, underperform, and are about to be deleted. ***\n",
      " \t\tYou are using the client Together, which will be removed in DSPy 2.6.\n",
      " \t\tChanging the client is straightforward and will let you use new features (Adapters) that improve the consistency of LM outputs, especially when using chat LMs. \n",
      "\n",
      " \t\tLearn more about the changes and how to migrate at\n",
      " \t\thttps://github.com/stanfordnlp/dspy/blob/main/examples/migration.ipynb\n",
      "2024/11/14 16:04:21 ERROR dspy.teleprompt.bootstrap: Failed to run or to evaluate example Example({'chat_history': ChatHistory(messages=[ChatMessage(from_creator=False, content=\"Hey! I saw you mentioned 'living slow' in your last video. Do you think it’s possible to do that while collecting typewriters and thinking about existential philosophy?\", image_base64=None, timestamp=None), ChatMessage(from_creator=True, content=\"Absolutely! 'Living slow' is about finding purpose in what you do, even if it's pondering life’s mysteries or restoring a typewriter. It's more about presence than speed.\", image_base64=None, timestamp=None), ChatMessage(from_creator=False, content='I love that! Maybe my typewriters are little time capsules of presence. Thanks for making me feel less weird about it.', image_base64=None, timestamp=None)]), 'response': 'Not weird at all! Embrace the things that make you feel deeply connected to the moment.'}) (input_keys={'chat_history'}) with None due to ('Too many retries trying to get the correct output format. Try simplifying the requirements.', {'general': 'Input should be a valid dictionary or instance of ChatHistory: chat_history (error type: model_type)'}).\n",
      " 33%|███▎      | 1/3 [00:23<00:47, 23.63s/it]2024/11/14 16:04:53 ERROR dspy.teleprompt.bootstrap: Failed to run or to evaluate example Example({'chat_history': ChatHistory(messages=[ChatMessage(from_creator=False, content='I sometimes feel like I’m an ‘old soul’ in a world that’s moving too fast. Is that weird?', image_base64=None, timestamp=None), ChatMessage(from_creator=True, content='Not at all. Some people connect deeply with past eras, and that’s perfectly valid. It’s about finding your own rhythm.', image_base64=None, timestamp=None), ChatMessage(from_creator=False, content='That’s really reassuring. Sometimes I just want to escape into another time.', image_base64=None, timestamp=None)]), 'response': 'That’s understandable. Just remember that you can bring elements of those eras into your life now.'}) (input_keys={'chat_history'}) with None due to ('Too many retries trying to get the correct output format. Try simplifying the requirements.', {'general': 'Input should be a valid dictionary or instance of ChatHistory: chat_history (error type: model_type)'}).\n",
      " 67%|██████▋   | 2/3 [00:55<00:28, 28.68s/it]2024/11/14 16:05:28 ERROR dspy.teleprompt.bootstrap: Failed to run or to evaluate example Example({'chat_history': ChatHistory(messages=[ChatMessage(from_creator=False, content='Do you think daydreaming can be a form of mindfulness? I spend hours lost in thought about alternate realities.', image_base64=None, timestamp=None), ChatMessage(from_creator=True, content='Definitely! Mindfulness doesn’t mean you have to avoid imagination. It’s more about being fully engaged with wherever your mind takes you.', image_base64=None, timestamp=None), ChatMessage(from_creator=False, content='So maybe my inner worlds aren’t just escapism?', image_base64=None, timestamp=None)]), 'response': 'Exactly! They’re a form of exploration. Just try to bring awareness to your daydreams—they’re part of your unique perspective.'}) (input_keys={'chat_history'}) with None due to ('Too many retries trying to get the correct output format. Try simplifying the requirements.', {'general': 'Input should be a valid dictionary or instance of ChatHistory: chat_history (error type: model_type)'}).\n",
      "100%|██████████| 3/3 [01:30<00:00, 30.17s/it]\n"
     ]
    },
    {
     "name": "stdout",
     "output_type": "stream",
     "text": [
      "Bootstrapped 0 full traces after 2 examples for up to 1 rounds, amounting to 3 attempts.\n"
     ]
    },
    {
     "ename": "ValueError",
     "evalue": "('Too many retries trying to get the correct output format. Try simplifying the requirements.', {'general': 'Input should be a valid dictionary or instance of ChatHistory: chat_history (error type: model_type)'})",
     "output_type": "error",
     "traceback": [
      "\u001b[0;31m---------------------------------------------------------------------------\u001b[0m",
      "\u001b[0;31mValueError\u001b[0m                                Traceback (most recent call last)",
      "Cell \u001b[0;32mIn[4], line 9\u001b[0m\n\u001b[1;32m      6\u001b[0m \u001b[38;5;28mprint\u001b[39m(\u001b[38;5;124m\"\u001b[39m\u001b[38;5;124mChat History: \u001b[39m\u001b[38;5;124m\"\u001b[39m, train_exemplar\u001b[38;5;241m.\u001b[39mchat_history)\n\u001b[1;32m      7\u001b[0m \u001b[38;5;28mprint\u001b[39m(\u001b[38;5;124m\"\u001b[39m\u001b[38;5;124mExpected response: \u001b[39m\u001b[38;5;124m\"\u001b[39m, train_exemplar\u001b[38;5;241m.\u001b[39mresponse)\n\u001b[0;32m----> 9\u001b[0m pred_response \u001b[38;5;241m=\u001b[39m \u001b[43mchatter\u001b[49m\u001b[43m(\u001b[49m\u001b[43mchat_history\u001b[49m\u001b[38;5;241;43m=\u001b[39;49m\u001b[43mtrain_exemplar\u001b[49m\u001b[38;5;241;43m.\u001b[39;49m\u001b[43mchat_history\u001b[49m\u001b[43m)\u001b[49m\u001b[38;5;241m.\u001b[39mresponse\n\u001b[1;32m     10\u001b[0m \u001b[38;5;28mprint\u001b[39m(\u001b[38;5;124m\"\u001b[39m\u001b[38;5;124mActual response: \u001b[39m\u001b[38;5;124m\"\u001b[39m, pred_response\u001b[38;5;241m.\u001b[39mresponse)\n",
      "File \u001b[0;32m~/Library/Caches/pypoetry/virtualenvs/takehome-Z4rHSaeh-py3.12/lib/python3.12/site-packages/dspy/utils/callback.py:202\u001b[0m, in \u001b[0;36mwith_callbacks.<locals>.wrapper\u001b[0;34m(instance, *args, **kwargs)\u001b[0m\n\u001b[1;32m    200\u001b[0m \u001b[38;5;66;03m# If no callbacks are provided, just call the function\u001b[39;00m\n\u001b[1;32m    201\u001b[0m \u001b[38;5;28;01mif\u001b[39;00m \u001b[38;5;129;01mnot\u001b[39;00m callbacks:\n\u001b[0;32m--> 202\u001b[0m     \u001b[38;5;28;01mreturn\u001b[39;00m \u001b[43mfn\u001b[49m\u001b[43m(\u001b[49m\u001b[43minstance\u001b[49m\u001b[43m,\u001b[49m\u001b[43m \u001b[49m\u001b[38;5;241;43m*\u001b[39;49m\u001b[43margs\u001b[49m\u001b[43m,\u001b[49m\u001b[43m \u001b[49m\u001b[38;5;241;43m*\u001b[39;49m\u001b[38;5;241;43m*\u001b[39;49m\u001b[43mkwargs\u001b[49m\u001b[43m)\u001b[49m\n\u001b[1;32m    204\u001b[0m \u001b[38;5;66;03m# Generate call ID as the unique identifier for the call, this is useful for instrumentation.\u001b[39;00m\n\u001b[1;32m    205\u001b[0m call_id \u001b[38;5;241m=\u001b[39m uuid\u001b[38;5;241m.\u001b[39muuid4()\u001b[38;5;241m.\u001b[39mhex\n",
      "File \u001b[0;32m~/Library/Caches/pypoetry/virtualenvs/takehome-Z4rHSaeh-py3.12/lib/python3.12/site-packages/dspy/primitives/program.py:23\u001b[0m, in \u001b[0;36mModule.__call__\u001b[0;34m(self, *args, **kwargs)\u001b[0m\n\u001b[1;32m     21\u001b[0m \u001b[38;5;129m@with_callbacks\u001b[39m\n\u001b[1;32m     22\u001b[0m \u001b[38;5;28;01mdef\u001b[39;00m \u001b[38;5;21m__call__\u001b[39m(\u001b[38;5;28mself\u001b[39m, \u001b[38;5;241m*\u001b[39margs, \u001b[38;5;241m*\u001b[39m\u001b[38;5;241m*\u001b[39mkwargs):\n\u001b[0;32m---> 23\u001b[0m     \u001b[38;5;28;01mreturn\u001b[39;00m \u001b[38;5;28;43mself\u001b[39;49m\u001b[38;5;241;43m.\u001b[39;49m\u001b[43mforward\u001b[49m\u001b[43m(\u001b[49m\u001b[38;5;241;43m*\u001b[39;49m\u001b[43margs\u001b[49m\u001b[43m,\u001b[49m\u001b[43m \u001b[49m\u001b[38;5;241;43m*\u001b[39;49m\u001b[38;5;241;43m*\u001b[39;49m\u001b[43mkwargs\u001b[49m\u001b[43m)\u001b[49m\n",
      "File \u001b[0;32m~/Code/whisper-takehome/takehome/brain/modules/chatter.py:27\u001b[0m, in \u001b[0;36mChatterModule.forward\u001b[0;34m(self, chat_history)\u001b[0m\n\u001b[1;32m     23\u001b[0m \u001b[38;5;28;01mdef\u001b[39;00m \u001b[38;5;21mforward\u001b[39m(\n\u001b[1;32m     24\u001b[0m     \u001b[38;5;28mself\u001b[39m,\n\u001b[1;32m     25\u001b[0m     chat_history: ChatHistory,\n\u001b[1;32m     26\u001b[0m ):\n\u001b[0;32m---> 27\u001b[0m     initial_response \u001b[38;5;241m=\u001b[39m \u001b[38;5;28;43mself\u001b[39;49m\u001b[38;5;241;43m.\u001b[39;49m\u001b[43mresponder\u001b[49m\u001b[43m(\u001b[49m\u001b[43mchat_history\u001b[49m\u001b[38;5;241;43m=\u001b[39;49m\u001b[43mchat_history\u001b[49m\u001b[43m)\u001b[49m\n\u001b[1;32m     28\u001b[0m     \u001b[38;5;28;01mif\u001b[39;00m \u001b[38;5;28mself\u001b[39m\u001b[38;5;241m.\u001b[39mcontent_filter:\n\u001b[1;32m     29\u001b[0m         filtered \u001b[38;5;241m=\u001b[39m \u001b[38;5;28mself\u001b[39m\u001b[38;5;241m.\u001b[39mcontent_filter(message\u001b[38;5;241m=\u001b[39minitial_response\u001b[38;5;241m.\u001b[39mresponse)\n",
      "File \u001b[0;32m~/Library/Caches/pypoetry/virtualenvs/takehome-Z4rHSaeh-py3.12/lib/python3.12/site-packages/dspy/utils/callback.py:202\u001b[0m, in \u001b[0;36mwith_callbacks.<locals>.wrapper\u001b[0;34m(instance, *args, **kwargs)\u001b[0m\n\u001b[1;32m    200\u001b[0m \u001b[38;5;66;03m# If no callbacks are provided, just call the function\u001b[39;00m\n\u001b[1;32m    201\u001b[0m \u001b[38;5;28;01mif\u001b[39;00m \u001b[38;5;129;01mnot\u001b[39;00m callbacks:\n\u001b[0;32m--> 202\u001b[0m     \u001b[38;5;28;01mreturn\u001b[39;00m \u001b[43mfn\u001b[49m\u001b[43m(\u001b[49m\u001b[43minstance\u001b[49m\u001b[43m,\u001b[49m\u001b[43m \u001b[49m\u001b[38;5;241;43m*\u001b[39;49m\u001b[43margs\u001b[49m\u001b[43m,\u001b[49m\u001b[43m \u001b[49m\u001b[38;5;241;43m*\u001b[39;49m\u001b[38;5;241;43m*\u001b[39;49m\u001b[43mkwargs\u001b[49m\u001b[43m)\u001b[49m\n\u001b[1;32m    204\u001b[0m \u001b[38;5;66;03m# Generate call ID as the unique identifier for the call, this is useful for instrumentation.\u001b[39;00m\n\u001b[1;32m    205\u001b[0m call_id \u001b[38;5;241m=\u001b[39m uuid\u001b[38;5;241m.\u001b[39muuid4()\u001b[38;5;241m.\u001b[39mhex\n",
      "File \u001b[0;32m~/Library/Caches/pypoetry/virtualenvs/takehome-Z4rHSaeh-py3.12/lib/python3.12/site-packages/dspy/primitives/program.py:23\u001b[0m, in \u001b[0;36mModule.__call__\u001b[0;34m(self, *args, **kwargs)\u001b[0m\n\u001b[1;32m     21\u001b[0m \u001b[38;5;129m@with_callbacks\u001b[39m\n\u001b[1;32m     22\u001b[0m \u001b[38;5;28;01mdef\u001b[39;00m \u001b[38;5;21m__call__\u001b[39m(\u001b[38;5;28mself\u001b[39m, \u001b[38;5;241m*\u001b[39margs, \u001b[38;5;241m*\u001b[39m\u001b[38;5;241m*\u001b[39mkwargs):\n\u001b[0;32m---> 23\u001b[0m     \u001b[38;5;28;01mreturn\u001b[39;00m \u001b[38;5;28;43mself\u001b[39;49m\u001b[38;5;241;43m.\u001b[39;49m\u001b[43mforward\u001b[49m\u001b[43m(\u001b[49m\u001b[38;5;241;43m*\u001b[39;49m\u001b[43margs\u001b[49m\u001b[43m,\u001b[49m\u001b[43m \u001b[49m\u001b[38;5;241;43m*\u001b[39;49m\u001b[38;5;241;43m*\u001b[39;49m\u001b[43mkwargs\u001b[49m\u001b[43m)\u001b[49m\n",
      "File \u001b[0;32m~/Library/Caches/pypoetry/virtualenvs/takehome-Z4rHSaeh-py3.12/lib/python3.12/site-packages/dspy/teleprompt/knn_fewshot.py:27\u001b[0m, in \u001b[0;36mKNNFewShot.compile.<locals>.forward_pass\u001b[0;34m(_, **kwargs)\u001b[0m\n\u001b[1;32m     21\u001b[0m few_shot_bootstrap \u001b[38;5;241m=\u001b[39m BootstrapFewShot(\u001b[38;5;241m*\u001b[39m\u001b[38;5;241m*\u001b[39m\u001b[38;5;28mself\u001b[39m\u001b[38;5;241m.\u001b[39mfew_shot_bootstrap_args)\n\u001b[1;32m     22\u001b[0m compiled_program \u001b[38;5;241m=\u001b[39m few_shot_bootstrap\u001b[38;5;241m.\u001b[39mcompile(\n\u001b[1;32m     23\u001b[0m     student,\n\u001b[1;32m     24\u001b[0m     teacher\u001b[38;5;241m=\u001b[39mteacher,\n\u001b[1;32m     25\u001b[0m     trainset\u001b[38;5;241m=\u001b[39mknn_trainset,\n\u001b[1;32m     26\u001b[0m )\n\u001b[0;32m---> 27\u001b[0m \u001b[38;5;28;01mreturn\u001b[39;00m \u001b[43mcompiled_program\u001b[49m\u001b[43m(\u001b[49m\u001b[38;5;241;43m*\u001b[39;49m\u001b[38;5;241;43m*\u001b[39;49m\u001b[43mkwargs\u001b[49m\u001b[43m)\u001b[49m\n",
      "File \u001b[0;32m~/Library/Caches/pypoetry/virtualenvs/takehome-Z4rHSaeh-py3.12/lib/python3.12/site-packages/dspy/utils/callback.py:202\u001b[0m, in \u001b[0;36mwith_callbacks.<locals>.wrapper\u001b[0;34m(instance, *args, **kwargs)\u001b[0m\n\u001b[1;32m    200\u001b[0m \u001b[38;5;66;03m# If no callbacks are provided, just call the function\u001b[39;00m\n\u001b[1;32m    201\u001b[0m \u001b[38;5;28;01mif\u001b[39;00m \u001b[38;5;129;01mnot\u001b[39;00m callbacks:\n\u001b[0;32m--> 202\u001b[0m     \u001b[38;5;28;01mreturn\u001b[39;00m \u001b[43mfn\u001b[49m\u001b[43m(\u001b[49m\u001b[43minstance\u001b[49m\u001b[43m,\u001b[49m\u001b[43m \u001b[49m\u001b[38;5;241;43m*\u001b[39;49m\u001b[43margs\u001b[49m\u001b[43m,\u001b[49m\u001b[43m \u001b[49m\u001b[38;5;241;43m*\u001b[39;49m\u001b[38;5;241;43m*\u001b[39;49m\u001b[43mkwargs\u001b[49m\u001b[43m)\u001b[49m\n\u001b[1;32m    204\u001b[0m \u001b[38;5;66;03m# Generate call ID as the unique identifier for the call, this is useful for instrumentation.\u001b[39;00m\n\u001b[1;32m    205\u001b[0m call_id \u001b[38;5;241m=\u001b[39m uuid\u001b[38;5;241m.\u001b[39muuid4()\u001b[38;5;241m.\u001b[39mhex\n",
      "File \u001b[0;32m~/Library/Caches/pypoetry/virtualenvs/takehome-Z4rHSaeh-py3.12/lib/python3.12/site-packages/dspy/primitives/program.py:23\u001b[0m, in \u001b[0;36mModule.__call__\u001b[0;34m(self, *args, **kwargs)\u001b[0m\n\u001b[1;32m     21\u001b[0m \u001b[38;5;129m@with_callbacks\u001b[39m\n\u001b[1;32m     22\u001b[0m \u001b[38;5;28;01mdef\u001b[39;00m \u001b[38;5;21m__call__\u001b[39m(\u001b[38;5;28mself\u001b[39m, \u001b[38;5;241m*\u001b[39margs, \u001b[38;5;241m*\u001b[39m\u001b[38;5;241m*\u001b[39mkwargs):\n\u001b[0;32m---> 23\u001b[0m     \u001b[38;5;28;01mreturn\u001b[39;00m \u001b[38;5;28;43mself\u001b[39;49m\u001b[38;5;241;43m.\u001b[39;49m\u001b[43mforward\u001b[49m\u001b[43m(\u001b[49m\u001b[38;5;241;43m*\u001b[39;49m\u001b[43margs\u001b[49m\u001b[43m,\u001b[49m\u001b[43m \u001b[49m\u001b[38;5;241;43m*\u001b[39;49m\u001b[38;5;241;43m*\u001b[39;49m\u001b[43mkwargs\u001b[49m\u001b[43m)\u001b[49m\n",
      "File \u001b[0;32m~/Code/whisper-takehome/takehome/brain/modules/responder.py:19\u001b[0m, in \u001b[0;36mResponderModule.forward\u001b[0;34m(self, chat_history)\u001b[0m\n\u001b[1;32m     15\u001b[0m \u001b[38;5;28;01mdef\u001b[39;00m \u001b[38;5;21mforward\u001b[39m(\n\u001b[1;32m     16\u001b[0m     \u001b[38;5;28mself\u001b[39m,\n\u001b[1;32m     17\u001b[0m     chat_history: ChatHistory,\n\u001b[1;32m     18\u001b[0m ):\n\u001b[0;32m---> 19\u001b[0m     \u001b[38;5;28;01mreturn\u001b[39;00m \u001b[38;5;28;43mself\u001b[39;49m\u001b[38;5;241;43m.\u001b[39;49m\u001b[43mprog\u001b[49m\u001b[43m(\u001b[49m\u001b[43mchat_history\u001b[49m\u001b[38;5;241;43m=\u001b[39;49m\u001b[43mchat_history\u001b[49m\u001b[43m)\u001b[49m\n",
      "File \u001b[0;32m~/Library/Caches/pypoetry/virtualenvs/takehome-Z4rHSaeh-py3.12/lib/python3.12/site-packages/dspy/utils/callback.py:202\u001b[0m, in \u001b[0;36mwith_callbacks.<locals>.wrapper\u001b[0;34m(instance, *args, **kwargs)\u001b[0m\n\u001b[1;32m    200\u001b[0m \u001b[38;5;66;03m# If no callbacks are provided, just call the function\u001b[39;00m\n\u001b[1;32m    201\u001b[0m \u001b[38;5;28;01mif\u001b[39;00m \u001b[38;5;129;01mnot\u001b[39;00m callbacks:\n\u001b[0;32m--> 202\u001b[0m     \u001b[38;5;28;01mreturn\u001b[39;00m \u001b[43mfn\u001b[49m\u001b[43m(\u001b[49m\u001b[43minstance\u001b[49m\u001b[43m,\u001b[49m\u001b[43m \u001b[49m\u001b[38;5;241;43m*\u001b[39;49m\u001b[43margs\u001b[49m\u001b[43m,\u001b[49m\u001b[43m \u001b[49m\u001b[38;5;241;43m*\u001b[39;49m\u001b[38;5;241;43m*\u001b[39;49m\u001b[43mkwargs\u001b[49m\u001b[43m)\u001b[49m\n\u001b[1;32m    204\u001b[0m \u001b[38;5;66;03m# Generate call ID as the unique identifier for the call, this is useful for instrumentation.\u001b[39;00m\n\u001b[1;32m    205\u001b[0m call_id \u001b[38;5;241m=\u001b[39m uuid\u001b[38;5;241m.\u001b[39muuid4()\u001b[38;5;241m.\u001b[39mhex\n",
      "File \u001b[0;32m~/Library/Caches/pypoetry/virtualenvs/takehome-Z4rHSaeh-py3.12/lib/python3.12/site-packages/dspy/primitives/program.py:23\u001b[0m, in \u001b[0;36mModule.__call__\u001b[0;34m(self, *args, **kwargs)\u001b[0m\n\u001b[1;32m     21\u001b[0m \u001b[38;5;129m@with_callbacks\u001b[39m\n\u001b[1;32m     22\u001b[0m \u001b[38;5;28;01mdef\u001b[39;00m \u001b[38;5;21m__call__\u001b[39m(\u001b[38;5;28mself\u001b[39m, \u001b[38;5;241m*\u001b[39margs, \u001b[38;5;241m*\u001b[39m\u001b[38;5;241m*\u001b[39mkwargs):\n\u001b[0;32m---> 23\u001b[0m     \u001b[38;5;28;01mreturn\u001b[39;00m \u001b[38;5;28;43mself\u001b[39;49m\u001b[38;5;241;43m.\u001b[39;49m\u001b[43mforward\u001b[49m\u001b[43m(\u001b[49m\u001b[38;5;241;43m*\u001b[39;49m\u001b[43margs\u001b[49m\u001b[43m,\u001b[49m\u001b[43m \u001b[49m\u001b[38;5;241;43m*\u001b[39;49m\u001b[38;5;241;43m*\u001b[39;49m\u001b[43mkwargs\u001b[49m\u001b[43m)\u001b[49m\n",
      "File \u001b[0;32m~/Library/Caches/pypoetry/virtualenvs/takehome-Z4rHSaeh-py3.12/lib/python3.12/site-packages/dspy/functional/functional.py:396\u001b[0m, in \u001b[0;36mTypedPredictor.forward\u001b[0;34m(self, **kwargs)\u001b[0m\n\u001b[1;32m    391\u001b[0m     \u001b[38;5;28;01melse\u001b[39;00m:\n\u001b[1;32m    392\u001b[0m         \u001b[38;5;66;03m# If there are no errors, we return the parsed results\u001b[39;00m\n\u001b[1;32m    393\u001b[0m         \u001b[38;5;28;01mreturn\u001b[39;00m Prediction\u001b[38;5;241m.\u001b[39mfrom_completions(\n\u001b[1;32m    394\u001b[0m             {key: [r[key] \u001b[38;5;28;01mfor\u001b[39;00m r \u001b[38;5;129;01min\u001b[39;00m parsed_results] \u001b[38;5;28;01mfor\u001b[39;00m key \u001b[38;5;129;01min\u001b[39;00m signature\u001b[38;5;241m.\u001b[39moutput_fields},\n\u001b[1;32m    395\u001b[0m         )\n\u001b[0;32m--> 396\u001b[0m \u001b[38;5;28;01mraise\u001b[39;00m \u001b[38;5;167;01mValueError\u001b[39;00m(\n\u001b[1;32m    397\u001b[0m     \u001b[38;5;124m\"\u001b[39m\u001b[38;5;124mToo many retries trying to get the correct output format. \u001b[39m\u001b[38;5;124m\"\u001b[39m \u001b[38;5;241m+\u001b[39m \u001b[38;5;124m\"\u001b[39m\u001b[38;5;124mTry simplifying the requirements.\u001b[39m\u001b[38;5;124m\"\u001b[39m,\n\u001b[1;32m    398\u001b[0m     errors,\n\u001b[1;32m    399\u001b[0m )\n",
      "\u001b[0;31mValueError\u001b[0m: ('Too many retries trying to get the correct output format. Try simplifying the requirements.', {'general': 'Input should be a valid dictionary or instance of ChatHistory: chat_history (error type: model_type)'})"
     ]
    }
   ],
   "source": [
    "from brain.modules.knn_optimizer import KNNOptimizer\n",
    "\n",
    "chatter = ChatterModule(examples=training_examples, use_filter=False)\n",
    "knn_optimizer = chatter.optimizer\n",
    "train_exemplar: LabeledChatHistory = knn_optimizer.labeled_examples[0]\n",
    "print(\"Chat History: \", train_exemplar.chat_history)\n",
    "print(\"Expected response: \", train_exemplar.response)\n",
    "\n",
    "pred_response = chatter(chat_history=train_exemplar.chat_history).response\n",
    "print(\"Actual response: \", pred_response.response)"
   ]
  },
  {
   "cell_type": "markdown",
   "metadata": {},
   "source": [
    "## Evaluate"
   ]
  },
  {
   "cell_type": "code",
   "execution_count": null,
   "metadata": {},
   "outputs": [],
   "source": [
    "from dspy.evaluate.evaluate import Evaluate\n",
    "from dspy.evaluate import answer_passage_match\n",
    "\n",
    "evaluate_knn_on_valset = Evaluate(devset=knn_optimizer.labeled_examples,\n",
    "                                  num_threads=len(\n",
    "                                      knn_optimizer.labeled_examples),\n",
    "                                  display_progress=True,\n",
    "                                  display_table=True,\n",
    "                                  provide_traceback=True)\n",
    "evaluate_knn_on_valset(chatter, answer_passage_match)"
   ]
  }
 ],
 "metadata": {
  "kernelspec": {
   "display_name": "takehome-Z4rHSaeh-py3.12",
   "language": "python",
   "name": "python3"
  },
  "language_info": {
   "codemirror_mode": {
    "name": "ipython",
    "version": 3
   },
   "file_extension": ".py",
   "mimetype": "text/x-python",
   "name": "python",
   "nbconvert_exporter": "python",
   "pygments_lexer": "ipython3",
   "version": "3.12.7"
  }
 },
 "nbformat": 4,
 "nbformat_minor": 2
}
